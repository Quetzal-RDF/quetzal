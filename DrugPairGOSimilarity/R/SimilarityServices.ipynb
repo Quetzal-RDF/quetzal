{
 "cells": [
  {
   "cell_type": "code",
   "execution_count": null,
   "metadata": {
    "collapsed": true
   },
   "outputs": [],
   "source": [
    "library(readr)\n",
    "library(XML)\n",
    "library(RxnSim)\n",
    "library(testit)\n",
    "library(RCurl)\n",
    "library(jsonlite)"
   ]
  },
  {
   "cell_type": "code",
   "execution_count": 3,
   "metadata": {
    "collapsed": true
   },
   "outputs": [],
   "source": [
    "parseInput <- function(str) {\n",
    "  # parse a dataframe from XML\n",
    "  data <- xmlParse(str, asText=TRUE)\n",
    "  print(data)\n",
    "  drug_cat = xmlSApply(xmlRoot(data), function(x) xmlSApply(x, xmlValue))\n",
    "  free(data)\n",
    "  d <- data.frame(t(drug_cat),row.names=NULL)\n",
    "}"
   ]
  },
  {
   "cell_type": "code",
   "execution_count": 5,
   "metadata": {
    "collapsed": true
   },
   "outputs": [],
   "source": [
    "# Compute similarity of SMILES fingerprints\n",
    "computeFPPerPair <- function(d1, d2, d) {\n",
    "  smiles1 <- as.character(d1[, \"SMILES\"])\n",
    "  smiles2 <- as.character(d2[,\"SMILES\"])\n",
    "  \n",
    "  assert(\"length should be 1 for a chemical fp of a drug\", length(smiles1) == 1)\n",
    "  assert(\"length should be 1 for a chemical fp of a drug\", length(smiles2) == 1) \n",
    "  sim = try(RxnSim::ms.compute (smiles1, smiles2, fp.depth=8), \n",
    "}"
   ]
  },
  {
   "cell_type": "code",
   "execution_count": 6,
   "metadata": {
    "collapsed": true
   },
   "outputs": [],
   "source": [
    "computeOverSimilarDrugPairs <- function(str, f) {\n",
    "  # used to test the function locally\n",
    "  # str <- read_file(\"postedChem.xml\")\n",
    "  d <- parseInput(str) \n",
    "  \n",
    "  # select just the drug column to compute all drug pairs\n",
    "  m <- unique(subset(d, select = c(\"drug\")))\n",
    "  z <- merge(x = m, y = m, by = NULL)\n",
    "  z <- z[z$drug.x!=z$drug.y,]\n",
    "  \n",
    "  # for each row containing a drug pair\n",
    "  # fetch the go annotations for each drug, and issue the query to GOSemSim\n",
    "  xml <- xmlTree()\n",
    "  xml$addTag(\"document\", close=FALSE)\n",
    "  xml$addTag(\"data\", close=FALSE)\n",
    "  \n",
    "  for(i in 1:dim(z)[1])  \n",
    "  {\n",
    "    xml$addTag(\"row\", close=FALSE)\n",
    "    drug1 <- z[i,1]\n",
    "    drug2 <- z[i,2]\n",
    "    xml$addTag(\"drug1\", drug1)\n",
    "    xml$addTag(\"drug2\", drug2)\n",
    "    d1 = d[d$drug==drug1,]\n",
    "    d2 = d[d$drug==drug2,]\n",
    "    sim = f(d1, d2, d)\n",
    "    xml$addTag(\"sim\", sim)\n",
    "    xml$closeTag()\n",
    "  }\n",
    "  xml$closeTag()\n",
    "  xml$closeTag()\n",
    "  ret <- saveXML(xml)\n",
    "}\n"
   ]
  },
  {
   "cell_type": "code",
   "execution_count": 8,
   "metadata": {
    "collapsed": true
   },
   "outputs": [],
   "source": [
    "computeChemicalFingerprintSimilarity <- function(str) {\n",
    "  computeOverSimilarDrugPairs(str, computeFPPerPair)\n",
    "}"
   ]
  },
  {
   "cell_type": "code",
   "execution_count": 9,
   "metadata": {
    "collapsed": true
   },
   "outputs": [],
   "source": [
    "REQUEST <- \"\""
   ]
  },
  {
   "cell_type": "code",
   "execution_count": 25,
   "metadata": {
    "collapsed": false
   },
   "outputs": [
    {
     "ename": "ERROR",
     "evalue": "Error: parse error: premature EOF\n                                       \n                     (right here) ------^\n\n",
     "output_type": "error",
     "traceback": [
      "Error: parse error: premature EOF\n                                       \n                     (right here) ------^\n\n"
     ]
    },
    {
     "ename": "ERROR",
     "evalue": "Error in xmlParse(str, asText = TRUE): object 'd' not found\n",
     "output_type": "error",
     "traceback": [
      "Error in xmlParse(str, asText = TRUE): object 'd' not found\n"
     ]
    },
    {
     "name": "stdout",
     "output_type": "stream",
     "text": [
      "[\"function (object, ...) \",\"UseMethod(\\\"str\\\")\"] \n"
     ]
    }
   ],
   "source": [
    "# POST /computeChemicalFingerprint\n",
    "# d <- read_file(\"postedChem.xml\")\n",
    "d <- fromJSON(REQUEST)$body\n",
    "d <- gsub(\"'\", \"\", d)\n",
    "d <- gsub(\"funcData=\",\"\", d)\n",
    "data <- xmlParse(str, asText=TRUE)\n",
    "drug_cat = xmlSApply(xmlRoot(data), function(x) xmlSApply(x, xmlValue))\n",
    "free(data)\n",
    "d <- data.frame(t(drug_cat),row.names=NULL)\n",
    "smiles <- as.character(d[, \"smiles\"])\n",
    "sim = ms.compute.sim.matrix (smiles, format='smiles', standardize = T, explicitH = F,\n",
    "                         sim.method = 'tanimoto',fp.mode ='bit', fp.depth = 6, fp.size = 1024)\n",
    "  \n",
    "rows = nrow(sim)\n",
    "cols = ncol(sim)\n",
    "cat('<?xml version=\"1.0\" encoding=\"UTF-8\"?>')\n",
    "cat(\"<data>\")\n",
    "  \n",
    "for(i in 1:rows)  \n",
    "{\n",
    "    drug1 <- as.character(d[i,1])\n",
    "    for (j in 1:cols)\n",
    "    { \n",
    "      cat(\"<row>\")\n",
    "      drug2 <- as.character(d[j,1])\n",
    "      print(\"<drug1>\")\n",
    "      print(drug1)\n",
    "      print(\"</drug1>\")\n",
    "      print(\"<drug2>\")\n",
    "      print(drug2)\n",
    "      print(\"</drug2>\")\n",
    "      similarity = sim[i,j]\n",
    "      print(\"<sim>\")\n",
    "      print(similarity)\n",
    "      print(\"</sim>\")\n",
    "      print(\"</row>\")    \n",
    "    }\n",
    "}\n",
    "print(\"</data>\")\n",
    "\n"
   ]
  },
  {
   "cell_type": "code",
   "execution_count": null,
   "metadata": {
    "collapsed": true
   },
   "outputs": [],
   "source": []
  }
 ],
 "metadata": {
  "kernelspec": {
   "display_name": "Python 2",
   "language": "python",
   "name": "python2"
  },
  "language_info": {
   "codemirror_mode": {
    "name": "ipython",
    "version": 2
   },
   "file_extension": ".py",
   "mimetype": "text/x-python",
   "name": "python",
   "nbconvert_exporter": "python",
   "pygments_lexer": "ipython2",
   "version": "2.7.11"
  }
 },
 "nbformat": 4,
 "nbformat_minor": 0
}
